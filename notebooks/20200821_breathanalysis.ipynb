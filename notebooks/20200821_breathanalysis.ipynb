{
 "cells": [
  {
   "cell_type": "code",
   "execution_count": null,
   "metadata": {},
   "outputs": [],
   "source": [
    "import sys\n",
    "!{sys.executable} -m pip install --upgrade pip\n",
    "!{sys.executable} -m pip install seaborn statsmodels brian2 spykes"
   ]
  },
  {
   "cell_type": "code",
   "execution_count": null,
   "metadata": {},
   "outputs": [],
   "source": [
    "import os\n",
    "import sys\n",
    "import numpy as np\n",
    "import pandas as pd\n",
    "PATH = '../../'\n",
    "sys.path.append(f'{PATH}')\n",
    "#sys.path.append(f'{PATH}/npx_utils')\n",
    "#sys.path.append(f'{PATH}/neb_utils')\n",
    "import npx_utils.readSGLX as readSGLX\n",
    "import seaborn as sns\n",
    "from pathlib import Path\n",
    "from scipy.signal import savgol_filter\n",
    "import npx_utils.post_sort_proc as postproc\n",
    "from npx_utils.data import get_ni_analog,get_tvec,create_spike_dict\n",
    "%pylab\n",
    "%matplotlib inline\n",
    "%load_ext autoreload\n",
    "%autoreload 2 "
   ]
  },
  {
   "cell_type": "code",
   "execution_count": null,
   "metadata": {},
   "outputs": [],
   "source": []
  },
  {
   "cell_type": "code",
   "execution_count": null,
   "metadata": {},
   "outputs": [],
   "source": [
    "?os.path.relpath"
   ]
  },
  {
   "cell_type": "code",
   "execution_count": null,
   "metadata": {},
   "outputs": [],
   "source": [
    "PATH = '/active/ramirez_j/ramirezlab/nbush/projects'\n",
    "run_path = f'{PATH}/dynaresp/data/processed/m2020-12/m202012_g11'\n",
    "imec_path = f'{run_path}/m202012_g11_imec0'\n",
    "ni_fn = f'{run_path}/m202012_g11_t0.nidq.bin'\n",
    "sync_ts = np.loadtxt(f'{imec_path}/m202012_g11_tcat.imec0.SY_384_6_500.txt')\n",
    "resp_chan = 1\n"
   ]
  },
  {
   "cell_type": "code",
   "execution_count": null,
   "metadata": {},
   "outputs": [],
   "source": [
    "sample_rate = 3.000032e+04\n"
   ]
  },
  {
   "cell_type": "code",
   "execution_count": null,
   "metadata": {},
   "outputs": [],
   "source": [
    "p_save = '/active/ramirez_j/ramirezlab/nbush/projects/dynaresp/results/2020-08-21-npx-sc-analysis'"
   ]
  },
  {
   "cell_type": "code",
   "execution_count": null,
   "metadata": {},
   "outputs": [],
   "source": [
    "st = np.load(os.path.join(imec_path,'spike_times_sec.npy'))\n",
    "sc = np.load(os.path.join(imec_path,'spike_clusters.npy'))"
   ]
  },
  {
   "cell_type": "code",
   "execution_count": null,
   "metadata": {},
   "outputs": [],
   "source": []
  },
  {
   "cell_type": "code",
   "execution_count": null,
   "metadata": {},
   "outputs": [],
   "source": [
    "meta=readSGLX.readMeta(Path(ni_fn))\n",
    "ni_dat = readSGLX.makeMemMapRaw(ni_fn,meta)\n",
    "resp = get_ni_analog(ni_fn,1)\n",
    "sync_chan = get_ni_analog(ni_fn,0)\n",
    "ni_sr = readSGLX.SampRate(meta)\n",
    "tvec = get_tvec(sync_chan,sync_ts,ni_sr)"
   ]
  },
  {
   "cell_type": "markdown",
   "metadata": {},
   "source": [
    "### Look at nasal trace"
   ]
  },
  {
   "cell_type": "code",
   "execution_count": null,
   "metadata": {},
   "outputs": [],
   "source": [
    "resp_smooth = savgol_filter(resp,501,1)\n"
   ]
  },
  {
   "cell_type": "code",
   "execution_count": null,
   "metadata": {},
   "outputs": [],
   "source": [
    "plt.plot(tvec,resp,'k',alpha=.2)\n",
    "plt.plot(tvec,resp_smooth)\n",
    "plt.xlim(10,12)\n"
   ]
  },
  {
   "cell_type": "code",
   "execution_count": null,
   "metadata": {},
   "outputs": [],
   "source": [
    "phi = postproc.nasal_to_phase(resp_smooth- np.mean(resp_smooth))\n",
    "insp = postproc.get_insp_onset(resp_smooth,direction=-1,thresh=2)\n",
    "insp_sec = tvec[insp]"
   ]
  },
  {
   "cell_type": "code",
   "execution_count": null,
   "metadata": {},
   "outputs": [],
   "source": [
    "phi_s = postproc.shift_phi(phi,insp)"
   ]
  },
  {
   "cell_type": "code",
   "execution_count": null,
   "metadata": {},
   "outputs": [],
   "source": [
    "plt.plot(tvec,phi,lw=1,ls='--')\n",
    "plt.plot(tvec,phi_s,lw=3)\n",
    "plt.plot(tvec,(resp_smooth-np.mean(resp_smooth))*100)\n",
    "plt.axhline(0,color='k',ls=':')\n",
    "plt.vlines(insp_sec,-np.pi,np.pi,ls='--')\n",
    "plt.xlim(10,12)\n",
    "plt.ylim(-np.pi,np.pi)\n",
    "sns.despine();"
   ]
  },
  {
   "cell_type": "code",
   "execution_count": null,
   "metadata": {},
   "outputs": [],
   "source": []
  },
  {
   "cell_type": "code",
   "execution_count": null,
   "metadata": {},
   "outputs": [],
   "source": [
    "# plt.plot(tvec[2:],-np.diff(savgol_filter(np.diff(resp_smooth),501,1)))\n",
    "f = plt.figure(figsize=(5,2))\n",
    "plt.plot(tvec,resp_smooth,'k')\n",
    "plt.plot(insp_sec,resp_smooth[insp],'ro',alpha=0.4)\n",
    "plt.xlim(50,70)\n",
    "plt.savefig(os.path.join(p_save,'resp_trace_detect.png'),dpi=300)\n"
   ]
  },
  {
   "cell_type": "markdown",
   "metadata": {},
   "source": [
    "### Load spikes and inspect"
   ]
  },
  {
   "cell_type": "code",
   "execution_count": null,
   "metadata": {},
   "outputs": [],
   "source": [
    "spike_dict = create_spike_dict(imec_path)"
   ]
  },
  {
   "cell_type": "code",
   "execution_count": null,
   "metadata": {},
   "outputs": [],
   "source": [
    "df = pd.DataFrame.from_dict(spike_dict,orient='index')\n",
    "df.index.name='cluster'\n",
    "df_good = df[df.label=='good'].sort_values('depth')\n",
    "df_good.reset_index()"
   ]
  },
  {
   "cell_type": "markdown",
   "metadata": {},
   "source": [
    "## Smoothed Spike Rates as Heatmap"
   ]
  },
  {
   "cell_type": "code",
   "execution_count": null,
   "metadata": {},
   "outputs": [],
   "source": [
    "import neb_utils.brian_utils.postproc as bup"
   ]
  },
  {
   "cell_type": "code",
   "execution_count": null,
   "metadata": {},
   "outputs": [],
   "source": [
    "raster,cell_id,bins = bup.bin_trains(st*bup.second,sc,len(np.unique(sc)),max_time=tvec[-1]*bup.second,binsize=50*bup.ms);"
   ]
  },
  {
   "cell_type": "code",
   "execution_count": null,
   "metadata": {},
   "outputs": [],
   "source": [
    "depth_order = np.argsort(df.depth.values)\n",
    "depth = np.sort(df.depth.values)"
   ]
  },
  {
   "cell_type": "code",
   "execution_count": null,
   "metadata": {},
   "outputs": [],
   "source": [
    "f = plt.figure(figsize=(3,10))\n",
    "plt.pcolormesh(bins,cell_id,raster[depth_order,:],cmap='gray_r')\n",
    "plt.xlim(100,105)\n",
    "plt.xlabel('Time (s)')\n",
    "plt.ylabel('Neuron ID')"
   ]
  },
  {
   "cell_type": "markdown",
   "metadata": {},
   "source": [
    "### Smoothed Spike Rates as Traces"
   ]
  },
  {
   "cell_type": "code",
   "execution_count": null,
   "metadata": {},
   "outputs": [],
   "source": [
    "\n",
    "f = plt.figure(figsize=(4,10))\n",
    "\n",
    "for clu in df_good.index.unique():\n",
    "    depth = df.iloc[clu]['depth']\n",
    "    fr = raster[clu,:]\n",
    "    plt.plot(bins,fr*10+depth,'k',lw=0.5,alpha=0.8)\n",
    "\n",
    "plt.plot(tvec,resp_smooth*10000+3500)\n",
    "plt.xlim(100,104)\n",
    "plt.ylim(0,3500)\n",
    "plt.ylabel('Depth (uM)')\n",
    "plt.xlabel('Time (s)')\n",
    "sns.despine()\n",
    "plt.savefig(os.path.join(p_save,'population_rates_by_depth.png'),dpi=300)\n"
   ]
  },
  {
   "cell_type": "markdown",
   "metadata": {},
   "source": [
    "### Work with Pavan's spykes package to visualize"
   ]
  },
  {
   "cell_type": "code",
   "execution_count": null,
   "metadata": {},
   "outputs": [],
   "source": [
    "from spykes.plot.neurovis import NeuroVis\n",
    "from spykes.plot.popvis import PopVis"
   ]
  },
  {
   "cell_type": "code",
   "execution_count": null,
   "metadata": {},
   "outputs": [],
   "source": [
    "neuron_list=  []\n",
    "for ii in df_good.index:\n",
    "    ts = df_good.loc[ii]['ts']\n",
    "    neuron = NeuroVis(ts,name=f'{ii}')\n",
    "    neuron_list.append(neuron)"
   ]
  },
  {
   "cell_type": "code",
   "execution_count": null,
   "metadata": {},
   "outputs": [],
   "source": [
    "pop = PopVis(neuron_list)"
   ]
  },
  {
   "cell_type": "markdown",
   "metadata": {},
   "source": [
    "#### Align to inspiration time (red line in figure)"
   ]
  },
  {
   "cell_type": "code",
   "execution_count": null,
   "metadata": {},
   "outputs": [],
   "source": [
    "data_df = pd.DataFrame()\n",
    "data_df['insp'] = tvec[insp]"
   ]
  },
  {
   "cell_type": "code",
   "execution_count": null,
   "metadata": {},
   "outputs": [],
   "source": [
    "all_psth = pop.get_all_psth(event='insp',df=data_df,binsize=1,window=[-100,250],plot=False)"
   ]
  },
  {
   "cell_type": "code",
   "execution_count": null,
   "metadata": {},
   "outputs": [],
   "source": [
    "depth_order = np.argsort(df_good.depth.values)\n",
    "plt.figure(figsize=(3,5))\n",
    "pop.plot_heat_map(all_psth,sortby=depth_order,normalize='each')\n",
    "plt.gca().set_yticklabels([])\n",
    "plt.title('Ordered by depth\\nNormalized FR')\n",
    "plt.savefig(os.path.join(p_save,'pop_psth.png'),dpi=300)\n",
    "plt.close('all')"
   ]
  },
  {
   "cell_type": "code",
   "execution_count": null,
   "metadata": {},
   "outputs": [],
   "source": [
    "f = pop.plot_heat_map(all_psth,sortby='latency',normalize='each')\n",
    "plt.gca().set_yticks([])"
   ]
  },
  {
   "cell_type": "code",
   "execution_count": null,
   "metadata": {},
   "outputs": [],
   "source": [
    "mod = []\n",
    "for neuron in neuron_list:\n",
    "    psth = neuron.get_psth(event='insp',df=data_df,plot=False,binsize=3);\n",
    "    max_fr = np.max(psth['data'][0]['mean'])\n",
    "    min_fr = np.min(psth['data'][0]['mean'])\n",
    "    mean_sem = np.mean(psth['data'][0]['sem'])\n",
    "    mod.append((max_fr-min_fr)/mean_sem)\n",
    "mod = np.array(mod)"
   ]
  },
  {
   "cell_type": "code",
   "execution_count": null,
   "metadata": {},
   "outputs": [],
   "source": [
    "best_list = np.argsort(mod)[::-1][:15]\n",
    "worst_list = np.argsort(mod)[::-1][-15:]"
   ]
  },
  {
   "cell_type": "markdown",
   "metadata": {},
   "source": [
    "### Plot all best"
   ]
  },
  {
   "cell_type": "code",
   "execution_count": null,
   "metadata": {},
   "outputs": [],
   "source": [
    "f = plt.figure(figsize=(14,8))\n",
    "count = 1\n",
    "for ii in best_list:\n",
    "    ax = f.add_subplot(4,4,count)\n",
    "    neuron_list[ii].get_psth(event='insp',df=data_df,binsize=5,window=[-400,400]);\n",
    "    count+=1\n",
    "    ax.set_ylim(0,220)\n",
    "plt.tight_layout()\n",
    "plt.savefig(os.path.join(p_save,f'best_tuning_mods.png'),dpi=300)\n",
    "plt.close('all')"
   ]
  },
  {
   "cell_type": "markdown",
   "metadata": {},
   "source": [
    "### Plot all worst"
   ]
  },
  {
   "cell_type": "code",
   "execution_count": null,
   "metadata": {},
   "outputs": [],
   "source": [
    "f = plt.figure(figsize=(14,8))\n",
    "count = 1\n",
    "for ii in worst_list:\n",
    "    ax = f.add_subplot(4,4,count)\n",
    "    neuron_list[ii].get_psth(event='insp',df=data_df,binsize=5,window=[-400,400]);\n",
    "    count+=1\n",
    "    ax.set_ylim(0,220)\n",
    "plt.tight_layout()\n",
    "plt.savefig(os.path.join(p_save,f'worst_tuning_mods.png'),dpi=300)\n",
    "plt.close('all')"
   ]
  },
  {
   "cell_type": "markdown",
   "metadata": {},
   "source": [
    "### Plot best individual"
   ]
  },
  {
   "cell_type": "code",
   "execution_count": null,
   "metadata": {},
   "outputs": [],
   "source": [
    "count = 1\n",
    "for ii in best_list:\n",
    "    f = plt.figure()\n",
    "    neuron_list[ii].get_psth(event='insp',df=data_df,binsize=5,window=[-400,400]);\n",
    "    plt.savefig(os.path.join(p_save,f'tuning_cuve-mod{mod[ii]:2.0f}-neuron{ii}.png'),dpi=300)\n",
    "    plt.close('all')"
   ]
  },
  {
   "cell_type": "markdown",
   "metadata": {},
   "source": [
    "### Plot modulation by depth"
   ]
  },
  {
   "cell_type": "code",
   "execution_count": null,
   "metadata": {},
   "outputs": [],
   "source": [
    "depth = df_good['depth'].values"
   ]
  },
  {
   "cell_type": "code",
   "execution_count": null,
   "metadata": {},
   "outputs": [],
   "source": [
    "\n",
    "hist,edges = np.histogram(depth,bins=np.arange(0,3500,200),weights=mod)"
   ]
  },
  {
   "cell_type": "code",
   "execution_count": null,
   "metadata": {},
   "outputs": [],
   "source": [
    "import seaborn as sns"
   ]
  },
  {
   "cell_type": "code",
   "execution_count": null,
   "metadata": {},
   "outputs": [],
   "source": [
    "df2 = pd.DataFrame()\n",
    "df2['edges'] = edges[1:]\n",
    "df2['hist'] = hist"
   ]
  },
  {
   "cell_type": "code",
   "execution_count": null,
   "metadata": {},
   "outputs": [],
   "source": [
    "plt.figure(figsize=(2,4.5))\n",
    "plt.barh(edges[1:],hist/len(hist),height=200,alpha=.4,color='k')\n",
    "plt.plot(mod,depth,'o',markeredgecolor='k',markerfacecolor='r',alpha=0.2)\n",
    "sns.despine()\n",
    "plt.xlabel('Modulation (a.u.)')\n",
    "plt.ylabel('Distance from Caudal insertion (microns)')\n",
    "plt.tight_layout()\n",
    "plt.savefig(os.path.join(p_save,'depth_vs_modulation.png'),dpi=300)\n",
    "\n"
   ]
  },
  {
   "cell_type": "code",
   "execution_count": null,
   "metadata": {},
   "outputs": [],
   "source": [
    "plt.close('all')"
   ]
  },
  {
   "cell_type": "markdown",
   "metadata": {},
   "source": [
    "### Optotag?"
   ]
  },
  {
   "cell_type": "code",
   "execution_count": null,
   "metadata": {},
   "outputs": [],
   "source": [
    "from neb_utils.ephys.signal import binary_onsets\n",
    "opto = get_ni_analog(ni_fn,3)\n",
    "light_on,light_off = binary_onsets(opto,1)\n",
    "light_on = tvec[light_on]\n",
    "light_of = tvec[light_off]"
   ]
  },
  {
   "cell_type": "markdown",
   "metadata": {},
   "source": [
    "#### Align to optic signal"
   ]
  },
  {
   "cell_type": "code",
   "execution_count": null,
   "metadata": {},
   "outputs": [],
   "source": [
    "opto_df = pd.DataFrame()\n",
    "opto_df['light_on'] = light_on"
   ]
  },
  {
   "cell_type": "code",
   "execution_count": null,
   "metadata": {},
   "outputs": [],
   "source": [
    "psth = pop.get_all_psth(df=opto_df,event='light_on',window=[-15,50],plot=False,binsize=1);\n",
    "pop.plot_heat_map(psth)"
   ]
  },
  {
   "cell_type": "code",
   "execution_count": null,
   "metadata": {},
   "outputs": [],
   "source": [
    "tagged = np.argmax(np.max(psth['data'][0],1))\n",
    "print(f'Opto tagged neuron is #{tagged}')"
   ]
  },
  {
   "cell_type": "code",
   "execution_count": null,
   "metadata": {},
   "outputs": [],
   "source": [
    "raster = neuron_list[82].get_raster(df= opto_df,event='light_on',window=[-20,20],binsize=1);"
   ]
  },
  {
   "cell_type": "code",
   "execution_count": null,
   "metadata": {},
   "outputs": [],
   "source": [
    "psth = neuron_list[82].get_psth(event='light_on',df=opto_df,binsize=3,window=[-20,20]);"
   ]
  },
  {
   "cell_type": "code",
   "execution_count": null,
   "metadata": {},
   "outputs": [],
   "source": [
    "psth = neuron_list[82].get_psth(event='insp',df=data_df,binsize=3);"
   ]
  },
  {
   "cell_type": "markdown",
   "metadata": {},
   "source": [
    "### Plot by phase"
   ]
  },
  {
   "cell_type": "code",
   "execution_count": null,
   "metadata": {},
   "outputs": [],
   "source": [
    "from tqdm import tqdm"
   ]
  },
  {
   "cell_type": "code",
   "execution_count": null,
   "metadata": {},
   "outputs": [],
   "source": [
    "all_rate = []\n",
    "for neuron in tqdm(neuron_list):\n",
    "    st = neuron.spiketimes\n",
    "\n",
    "    sp_samp= np.searchsorted(tvec,st)\n",
    "    sp = np.zeros_like(phi_s)\n",
    "    sp[sp_samp] = 1\n",
    "    rate,theta_k,theta,L_dir = postproc.angular_response_hist(phi_s,sp,100)\n",
    "    all_rate.append(rate)\n",
    "all_rate = np.array(all_rate)"
   ]
  },
  {
   "cell_type": "code",
   "execution_count": null,
   "metadata": {},
   "outputs": [],
   "source": [
    "normed_rate = all_rate.T/np.max(all_rate,1)\n",
    "normed_rate = normed_rate.T\n",
    "order = np.argsort(np.argmax(all_rate,1))\n",
    "order_r = np.argsort(np.argmin(all_rate,1))\n",
    "# order = np.argsort(df_good.depth)"
   ]
  },
  {
   "cell_type": "code",
   "execution_count": null,
   "metadata": {},
   "outputs": [],
   "source": [
    "\n",
    "f = plt.figure(figsize=(4,8))\n",
    "plt.pcolormesh(theta_k[:-1],np.arange(len(neuron_list)),normed_rate[order,:],\n",
    "              cmap='gray_r')\n",
    "plt.axvline(0,c='r',ls=':')\n",
    "plt.xticks([-np.pi, -np.pi/2,0,np.pi/2,np.pi])\n",
    "plt.gca().set_xticklabels(['-pi','-pi/2','0','pi/2','pi'])\n",
    "plt.colorbar()"
   ]
  },
  {
   "cell_type": "code",
   "execution_count": null,
   "metadata": {},
   "outputs": [],
   "source": [
    "for ii in np.arange(30,90,5):\n",
    "    plt.plot(theta_k[:-1],all_rate[ii],alpha=.6)"
   ]
  },
  {
   "cell_type": "code",
   "execution_count": null,
   "metadata": {},
   "outputs": [],
   "source": [
    "all_theta = []\n",
    "all_L = []\n",
    "for rate in all_rate:\n",
    "    theta,L = postproc.get_PD_from_hist(theta_k[:-1],rate)\n",
    "    all_theta.append(theta)\n",
    "    all_L.append(L)\n",
    "all_theta = np.array(all_theta)\n",
    "all_L = np.array(all_L)"
   ]
  },
  {
   "cell_type": "code",
   "execution_count": null,
   "metadata": {},
   "outputs": [],
   "source": [
    "f,ax = plt.subplots(nrows=1,ncols=2)\n",
    "ax[0].hist(all_theta)\n",
    "ax[1].hist(all_L)\n",
    "sns.despine();"
   ]
  },
  {
   "cell_type": "code",
   "execution_count": null,
   "metadata": {},
   "outputs": [],
   "source": [
    "df = pd.DataFrame()\n",
    "df['sig'] = all_L>0.05\n",
    "df['all_L'] = all_L\n",
    "df['phi_pref'] = all_theta\n",
    "df['depth'] = df_good.depth.values\n",
    "df_sig = df[df.sig]\n",
    "df_notsig = df[df.sig==False]\n",
    "order = df_sig.sort_values('phi_pref').index\n",
    "order_r = df_notsig.sort_values('phi_pref').index"
   ]
  },
  {
   "cell_type": "code",
   "execution_count": null,
   "metadata": {},
   "outputs": [],
   "source": [
    "df"
   ]
  },
  {
   "cell_type": "code",
   "execution_count": null,
   "metadata": {},
   "outputs": [],
   "source": [
    "f = plt.figure(figsize=(4,8))\n",
    "plt.pcolormesh(theta_k[:-1],np.arange(len(order)),all_rate[order,:],\n",
    "              cmap='viridis',vmax=0.02)\n",
    "plt.axvline(0,c='r',ls=':')\n",
    "plt.xticks([-np.pi, -np.pi/2,0,np.pi/2,np.pi])\n",
    "plt.gca().set_xticklabels(['-pi','-pi/2','0','pi/2','pi'])\n",
    "plt.colorbar()"
   ]
  },
  {
   "cell_type": "code",
   "execution_count": null,
   "metadata": {},
   "outputs": [],
   "source": [
    "from statsmodels.nonparametric.smoothers_lowess import lowess\n",
    "xx = df.sort_values('depth')['depth'].values\n",
    "yy= lowess(df['all_L'].values,xx,frac=0.15,return_sorted=False)"
   ]
  },
  {
   "cell_type": "code",
   "execution_count": null,
   "metadata": {},
   "outputs": [],
   "source": [
    "plt.figure(figsize=(2,5))\n",
    "plt.plot(df['all_L'],df[\"depth\"],'ko',alpha=0.4)\n",
    "plt.plot(yy,xx,'r--',lw=3)"
   ]
  },
  {
   "cell_type": "code",
   "execution_count": null,
   "metadata": {},
   "outputs": [],
   "source": [
    "\n",
    "dff = df.dropna()\n",
    "plt.hist2d(dff['phi_pref'],dff.depth);"
   ]
  },
  {
   "cell_type": "code",
   "execution_count": null,
   "metadata": {},
   "outputs": [],
   "source": []
  },
  {
   "cell_type": "code",
   "execution_count": null,
   "metadata": {},
   "outputs": [],
   "source": []
  }
 ],
 "metadata": {
  "kernelspec": {
   "display_name": "Python 3",
   "language": "python",
   "name": "python3"
  },
  "language_info": {
   "codemirror_mode": {
    "name": "ipython",
    "version": 3
   },
   "file_extension": ".py",
   "mimetype": "text/x-python",
   "name": "python",
   "nbconvert_exporter": "python",
   "pygments_lexer": "ipython3",
   "version": "3.8.0"
  }
 },
 "nbformat": 4,
 "nbformat_minor": 4
}
