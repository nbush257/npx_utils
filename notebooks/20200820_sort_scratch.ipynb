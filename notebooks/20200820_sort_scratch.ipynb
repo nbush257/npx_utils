{
 "cells": [
  {
   "cell_type": "code",
   "execution_count": 25,
   "metadata": {},
   "outputs": [
    {
     "name": "stdout",
     "output_type": "stream",
     "text": [
      "Defaulting to user installation because normal site-packages is not writeable\n",
      "Requirement already up-to-date: pip in /gpfs/home/gmorto/.local/lib/python3.8/site-packages (20.2.2)\n",
      "Defaulting to user installation because normal site-packages is not writeable\n",
      "Requirement already satisfied: spikeinterface in /gpfs/home/gmorto/.local/lib/python3.8/site-packages (0.9.9)\n",
      "Requirement already satisfied: seaborn in /gpfs/home/gmorto/.local/lib/python3.8/site-packages (0.10.1)\n",
      "Requirement already satisfied: statsmodels in /gpfs/home/gmorto/.local/lib/python3.8/site-packages (0.12.0)\n",
      "Collecting brian2\n",
      "  Downloading Brian2-2.3.0.2.tar.gz (1.6 MB)\n",
      "\u001b[K     |████████████████████████████████| 1.6 MB 15.6 MB/s eta 0:00:01\n",
      "\u001b[?25hRequirement already satisfied: spiketoolkit>=0.6.3 in /gpfs/home/gmorto/.local/lib/python3.8/site-packages (from spikeinterface) (0.7.0)\n",
      "Requirement already satisfied: spikecomparison>=0.2.6 in /gpfs/home/gmorto/.local/lib/python3.8/site-packages (from spikeinterface) (0.2.6)\n",
      "Requirement already satisfied: spikewidgets>=0.4.3 in /gpfs/home/gmorto/.local/lib/python3.8/site-packages (from spikeinterface) (0.5.0)\n",
      "Requirement already satisfied: spikeextractors>=0.8.4 in /gpfs/home/gmorto/.local/lib/python3.8/site-packages (from spikeinterface) (0.9.0)\n",
      "Requirement already satisfied: spikesorters>=0.3.2 in /gpfs/home/gmorto/.local/lib/python3.8/site-packages (from spikeinterface) (0.3.3)\n",
      "Requirement already satisfied: scipy>=1.0.1 in /gpfs/home/gmorto/.local/lib/python3.8/site-packages (from seaborn) (1.5.2)\n",
      "Requirement already satisfied: matplotlib>=2.1.2 in /gpfs/nfs-depot/apps/python/3.8.0/lib/python3.8/site-packages (from seaborn) (3.3.0)\n",
      "Requirement already satisfied: numpy>=1.13.3 in /gpfs/nfs-depot/apps/python/3.8.0/lib/python3.8/site-packages (from seaborn) (1.17.4)\n",
      "Requirement already satisfied: pandas>=0.22.0 in /gpfs/nfs-depot/apps/python/3.8.0/lib/python3.8/site-packages (from seaborn) (1.0.5)\n",
      "Requirement already satisfied: patsy>=0.5 in /gpfs/home/gmorto/.local/lib/python3.8/site-packages (from statsmodels) (0.5.1)\n",
      "Collecting cython>=0.29\n",
      "  Downloading Cython-0.29.21-cp38-cp38-manylinux1_x86_64.whl (1.9 MB)\n",
      "\u001b[K     |████████████████████████████████| 1.9 MB 3.6 MB/s eta 0:00:01\n",
      "\u001b[?25hCollecting sympy>=1.2\n",
      "  Downloading sympy-1.6.2-py3-none-any.whl (5.8 MB)\n",
      "\u001b[K     |████████████████████████████████| 5.8 MB 30.5 MB/s eta 0:00:01\n",
      "\u001b[?25hRequirement already satisfied: pyparsing in /gpfs/nfs-depot/apps/python/3.8.0/lib/python3.8/site-packages (from brian2) (2.4.7)\n",
      "Requirement already satisfied: jinja2>=2.7 in /gpfs/nfs-depot/apps/python/3.8.0/lib/python3.8/site-packages (from brian2) (2.11.2)\n",
      "Requirement already satisfied: setuptools>=24 in /gpfs/nfs-depot/apps/python/3.8.0/lib/python3.8/site-packages (from brian2) (41.2.0)\n",
      "Collecting future\n",
      "  Downloading future-0.18.2.tar.gz (829 kB)\n",
      "\u001b[K     |████████████████████████████████| 829 kB 25.8 MB/s eta 0:00:01\n",
      "\u001b[?25hRequirement already satisfied: spikemetrics>=0.2.2 in /gpfs/home/gmorto/.local/lib/python3.8/site-packages (from spiketoolkit>=0.6.3->spikeinterface) (0.2.2)\n",
      "Requirement already satisfied: spikefeatures in /gpfs/home/gmorto/.local/lib/python3.8/site-packages (from spiketoolkit>=0.6.3->spikeinterface) (0.1.1)\n",
      "Requirement already satisfied: scikit-learn in /gpfs/home/gmorto/.local/lib/python3.8/site-packages (from spiketoolkit>=0.6.3->spikeinterface) (0.23.2)\n",
      "Requirement already satisfied: networkx in /gpfs/home/gmorto/.local/lib/python3.8/site-packages (from spiketoolkit>=0.6.3->spikeinterface) (2.4)\n",
      "Requirement already satisfied: joblib in /gpfs/home/gmorto/.local/lib/python3.8/site-packages (from spiketoolkit>=0.6.3->spikeinterface) (0.16.0)\n",
      "Requirement already satisfied: MEAutility>=1.4.6 in /gpfs/home/gmorto/.local/lib/python3.8/site-packages (from spikewidgets>=0.4.3->spikeinterface) (1.4.7)\n",
      "Requirement already satisfied: tqdm in /gpfs/home/gmorto/.local/lib/python3.8/site-packages (from spikeextractors>=0.8.4->spikeinterface) (4.48.2)\n",
      "Requirement already satisfied: requests in /gpfs/nfs-depot/apps/python/3.8.0/lib/python3.8/site-packages (from spikesorters>=0.3.2->spikeinterface) (2.22.0)\n",
      "Requirement already satisfied: python-dateutil>=2.1 in /gpfs/nfs-depot/apps/python/3.8.0/lib/python3.8/site-packages (from matplotlib>=2.1.2->seaborn) (2.8.1)\n",
      "Requirement already satisfied: cycler>=0.10 in /gpfs/nfs-depot/apps/python/3.8.0/lib/python3.8/site-packages (from matplotlib>=2.1.2->seaborn) (0.10.0)\n",
      "Requirement already satisfied: kiwisolver>=1.0.1 in /gpfs/nfs-depot/apps/python/3.8.0/lib/python3.8/site-packages (from matplotlib>=2.1.2->seaborn) (1.2.0)\n",
      "Requirement already satisfied: pillow>=6.2.0 in /gpfs/nfs-depot/apps/python/3.8.0/lib/python3.8/site-packages (from matplotlib>=2.1.2->seaborn) (6.2.1)\n",
      "Requirement already satisfied: pytz>=2017.2 in /gpfs/nfs-depot/apps/python/3.8.0/lib/python3.8/site-packages (from pandas>=0.22.0->seaborn) (2020.1)\n",
      "Requirement already satisfied: six in /gpfs/nfs-depot/apps/python/3.8.0/lib/python3.8/site-packages (from patsy>=0.5->statsmodels) (1.13.0)\n",
      "Collecting mpmath>=0.19\n",
      "  Downloading mpmath-1.1.0.tar.gz (512 kB)\n",
      "\u001b[K     |████████████████████████████████| 512 kB 8.6 MB/s eta 0:00:01\n",
      "\u001b[?25hRequirement already satisfied: MarkupSafe>=0.23 in /gpfs/nfs-depot/apps/python/3.8.0/lib/python3.8/site-packages (from jinja2>=2.7->brian2) (1.1.1)\n",
      "Requirement already satisfied: threadpoolctl>=2.0.0 in /gpfs/home/gmorto/.local/lib/python3.8/site-packages (from scikit-learn->spiketoolkit>=0.6.3->spikeinterface) (2.1.0)\n",
      "Requirement already satisfied: decorator>=4.3.0 in /gpfs/nfs-depot/apps/python/3.8.0/lib/python3.8/site-packages (from networkx->spiketoolkit>=0.6.3->spikeinterface) (4.4.2)\n",
      "Requirement already satisfied: pyyaml in /gpfs/home/gmorto/.local/lib/python3.8/site-packages (from MEAutility>=1.4.6->spikewidgets>=0.4.3->spikeinterface) (5.3.1)\n",
      "Requirement already satisfied: certifi>=2017.4.17 in /gpfs/nfs-depot/apps/python/3.8.0/lib/python3.8/site-packages (from requests->spikesorters>=0.3.2->spikeinterface) (2020.6.20)\n",
      "Requirement already satisfied: chardet<3.1.0,>=3.0.2 in /gpfs/nfs-depot/apps/python/3.8.0/lib/python3.8/site-packages (from requests->spikesorters>=0.3.2->spikeinterface) (3.0.4)\n",
      "Requirement already satisfied: idna<2.9,>=2.5 in /gpfs/nfs-depot/apps/python/3.8.0/lib/python3.8/site-packages (from requests->spikesorters>=0.3.2->spikeinterface) (2.8)\n",
      "Requirement already satisfied: urllib3!=1.25.0,!=1.25.1,<1.26,>=1.21.1 in /gpfs/nfs-depot/apps/python/3.8.0/lib/python3.8/site-packages (from requests->spikesorters>=0.3.2->spikeinterface) (1.25.9)\n",
      "Using legacy 'setup.py install' for brian2, since package 'wheel' is not installed.\n",
      "Using legacy 'setup.py install' for future, since package 'wheel' is not installed.\n",
      "Using legacy 'setup.py install' for mpmath, since package 'wheel' is not installed.\n",
      "Installing collected packages: cython, mpmath, sympy, future, brian2\n",
      "    Running setup.py install for mpmath ... \u001b[?25ldone\n",
      "\u001b[?25h    Running setup.py install for future ... \u001b[?25ldone\n",
      "\u001b[?25h    Running setup.py install for brian2 ... \u001b[?25ldone\n",
      "\u001b[?25hSuccessfully installed brian2-2.3.0.2 cython-0.29.21 future-0.18.2 mpmath-1.1.0 sympy-1.6.2\n"
     ]
    }
   ],
   "source": [
    "import sys\n",
    "!{sys.executable} -m pip install --upgrade pip\n",
    "!{sys.executable} -m pip install spikeinterface"
   ]
  },
  {
   "cell_type": "code",
   "execution_count": 7,
   "metadata": {},
   "outputs": [],
   "source": [
    "import spikeinterface.widgets as sw\n",
    "import spikeinterface.extractors as se\n",
    "import numpy as np\n",
    "import pandas as pd\n",
    "import matplotlib.pyplot as plt\n",
    "%matplotlib inline"
   ]
  },
  {
   "cell_type": "markdown",
   "metadata": {},
   "source": [
    "## JASON LOOK HERE\n",
    "\n",
    "Spike clusters (sc) and spike times (st) are what you for the waveform raster"
   ]
  },
  {
   "cell_type": "code",
   "execution_count": 8,
   "metadata": {},
   "outputs": [],
   "source": [
    "PATH = '/active/ramirez_j/ramirezlab/nbush/projects/dynaresp/data/processed/m2020-12/m202012_g11/m202012_g11_imec0'\n",
    "amp = np.load(f'{PATH}/amplitudes.npy')\n",
    "st = np.load(f'{PATH}/spike_times.npy')\n",
    "sc = np.load(f'{PATH}/spike_clusters.npy')\n",
    "pos = np.load(f'{PATH}/channel_positions.npy')"
   ]
  },
  {
   "cell_type": "code",
   "execution_count": null,
   "metadata": {},
   "outputs": [],
   "source": [
    "df = pd.DataFrame()\n",
    "df['amp'] = amp.ravel()\n",
    "df['sc'] = sc\n",
    "df['st'] = st"
   ]
  },
  {
   "cell_type": "code",
   "execution_count": null,
   "metadata": {},
   "outputs": [],
   "source": [
    "metrics = pd.read_csv(f'{PATH}/cluster_metrics.csv',index_col=0)"
   ]
  },
  {
   "cell_type": "code",
   "execution_count": null,
   "metadata": {},
   "outputs": [],
   "source": [
    "plt.hist(metrics.d_prime);"
   ]
  },
  {
   "cell_type": "code",
   "execution_count": null,
   "metadata": {},
   "outputs": [],
   "source": [
    "pos[-5:]"
   ]
  },
  {
   "cell_type": "code",
   "execution_count": null,
   "metadata": {},
   "outputs": [],
   "source": [
    "df2 = pd.DataFrame()\n",
    "df2['pos'] = pos\n",
    "df2.head()"
   ]
  },
  {
   "cell_type": "code",
   "execution_count": null,
   "metadata": {},
   "outputs": [],
   "source": [
    "df.head()"
   ]
  },
  {
   "cell_type": "code",
   "execution_count": null,
   "metadata": {},
   "outputs": [],
   "source": [
    "df.sort_values('sc')"
   ]
  },
  {
   "cell_type": "code",
   "execution_count": null,
   "metadata": {},
   "outputs": [],
   "source": [
    "df.groupby('sc').mean()['amp']"
   ]
  },
  {
   "cell_type": "code",
   "execution_count": null,
   "metadata": {},
   "outputs": [],
   "source": [
    "metrics.head()"
   ]
  },
  {
   "cell_type": "code",
   "execution_count": null,
   "metadata": {},
   "outputs": [],
   "source": [
    "plt.plot(metrics.silhouette_score,metrics.d_prime,'.')"
   ]
  },
  {
   "cell_type": "code",
   "execution_count": null,
   "metadata": {},
   "outputs": [],
   "source": [
    "wvfm = np.load(f'{PATH}/mean_waveforms.npy')"
   ]
  },
  {
   "cell_type": "code",
   "execution_count": null,
   "metadata": {},
   "outputs": [],
   "source": [
    "wvfm.shape"
   ]
  },
  {
   "cell_type": "code",
   "execution_count": null,
   "metadata": {},
   "outputs": [],
   "source": [
    "plt.plot(wvfm[100,:,:].T,'k')"
   ]
  },
  {
   "cell_type": "code",
   "execution_count": null,
   "metadata": {},
   "outputs": [],
   "source": [
    "plt.pcolormesh(wvfm[100,:,:])\n",
    "plt.ylim([300,350])\n",
    "plt.colorbar()"
   ]
  },
  {
   "cell_type": "code",
   "execution_count": null,
   "metadata": {},
   "outputs": [],
   "source": [
    "wvfm_metrics = pd.read_csv(f'{PATH}/waveform_metrics.csv',index_col=0)\n",
    "wvfm_metrics"
   ]
  },
  {
   "cell_type": "code",
   "execution_count": null,
   "metadata": {},
   "outputs": [],
   "source": [
    "metrics"
   ]
  },
  {
   "cell_type": "code",
   "execution_count": 4,
   "metadata": {},
   "outputs": [],
   "source": [
    "import sys\n",
    "sys.path.append('../')\n",
    "import data"
   ]
  },
  {
   "cell_type": "code",
   "execution_count": 10,
   "metadata": {},
   "outputs": [],
   "source": [
    "s_dict = data.create_spike_dict(PATH)"
   ]
  },
  {
   "cell_type": "code",
   "execution_count": 12,
   "metadata": {},
   "outputs": [
    {
     "data": {
      "text/plain": [
       "{'ts': array([8.38324391e-02, 1.76398118e-01, 1.84731363e-01, ...,\n",
       "        2.95656013e+02, 2.95767978e+02, 2.95863844e+02]),\n",
       " 'amp': array([22.22412872, 22.69145393, 21.64870262, ..., 20.9372139 ,\n",
       "        22.97823334, 19.97419357]),\n",
       " 'label': 'good',\n",
       " 'pk_channel': 8,\n",
       " 'depth': 80.0,\n",
       " 'n_spikes': 2465,\n",
       " 'mean_amp': 20.738307606230883}"
      ]
     },
     "execution_count": 12,
     "metadata": {},
     "output_type": "execute_result"
    }
   ],
   "source": [
    "s_dict[0]"
   ]
  },
  {
   "cell_type": "code",
   "execution_count": 18,
   "metadata": {},
   "outputs": [],
   "source": [
    "ISI  = np.diff(s_dict[20]['ts'])"
   ]
  },
  {
   "cell_type": "code",
   "execution_count": 22,
   "metadata": {},
   "outputs": [
    {
     "data": {
      "text/plain": [
       "(array([ 4.,  4.,  2.,  0.,  5.,  2.,  6.,  1.,  1.,  0.,  0.,  1.,  0.,\n",
       "         0.,  0.,  0.,  0.,  0.,  0.,  0.,  0.,  0.,  0.,  0.,  0.,  0.,\n",
       "         0.,  0.,  0.,  0.,  0.,  0.,  0.,  0.,  0.,  0.,  0.,  0.,  0.,\n",
       "         0.,  0.,  0.,  0.,  0.,  0.,  0.,  1.,  0.,  0.,  0.,  0.,  0.,\n",
       "         0.,  0.,  0.,  0.,  0.,  0.,  0.,  0.,  0.,  0.,  0.,  1.,  4.,\n",
       "         5.,  6.,  4.,  3.,  3.,  4.,  0.,  1.,  1.,  8., 11., 11., 11.,\n",
       "        34., 92., 62., 21., 18., 12., 13., 10., 17., 10., 12.,  7.,  8.,\n",
       "         3.,  9.,  3.,  2.,  1.,  1.,  1.,  1.,  1.]),\n",
       " array([-8.51720386e+00, -8.41810378e+00, -8.31900370e+00, -8.21990362e+00,\n",
       "        -8.12080354e+00, -8.02170346e+00, -7.92260338e+00, -7.82350330e+00,\n",
       "        -7.72440322e+00, -7.62530315e+00, -7.52620307e+00, -7.42710299e+00,\n",
       "        -7.32800291e+00, -7.22890283e+00, -7.12980275e+00, -7.03070267e+00,\n",
       "        -6.93160259e+00, -6.83250251e+00, -6.73340243e+00, -6.63430235e+00,\n",
       "        -6.53520228e+00, -6.43610220e+00, -6.33700212e+00, -6.23790204e+00,\n",
       "        -6.13880196e+00, -6.03970188e+00, -5.94060180e+00, -5.84150172e+00,\n",
       "        -5.74240164e+00, -5.64330156e+00, -5.54420148e+00, -5.44510140e+00,\n",
       "        -5.34600133e+00, -5.24690125e+00, -5.14780117e+00, -5.04870109e+00,\n",
       "        -4.94960101e+00, -4.85050093e+00, -4.75140085e+00, -4.65230077e+00,\n",
       "        -4.55320069e+00, -4.45410061e+00, -4.35500053e+00, -4.25590045e+00,\n",
       "        -4.15680038e+00, -4.05770030e+00, -3.95860022e+00, -3.85950014e+00,\n",
       "        -3.76040006e+00, -3.66129998e+00, -3.56219990e+00, -3.46309982e+00,\n",
       "        -3.36399974e+00, -3.26489966e+00, -3.16579958e+00, -3.06669950e+00,\n",
       "        -2.96759943e+00, -2.86849935e+00, -2.76939927e+00, -2.67029919e+00,\n",
       "        -2.57119911e+00, -2.47209903e+00, -2.37299895e+00, -2.27389887e+00,\n",
       "        -2.17479879e+00, -2.07569871e+00, -1.97659863e+00, -1.87749855e+00,\n",
       "        -1.77839848e+00, -1.67929840e+00, -1.58019832e+00, -1.48109824e+00,\n",
       "        -1.38199816e+00, -1.28289808e+00, -1.18379800e+00, -1.08469792e+00,\n",
       "        -9.85597842e-01, -8.86497763e-01, -7.87397684e-01, -6.88297605e-01,\n",
       "        -5.89197526e-01, -4.90097447e-01, -3.90997367e-01, -2.91897288e-01,\n",
       "        -1.92797209e-01, -9.36971300e-02,  5.40294917e-03,  1.04503028e-01,\n",
       "         2.03603107e-01,  3.02703187e-01,  4.01803266e-01,  5.00903345e-01,\n",
       "         6.00003424e-01,  6.99103503e-01,  7.98203582e-01,  8.97303662e-01,\n",
       "         9.96403741e-01,  1.09550382e+00,  1.19460390e+00,  1.29370398e+00,\n",
       "         1.39280406e+00]),\n",
       " <BarContainer object of 100 artists>)"
      ]
     },
     "execution_count": 22,
     "metadata": {},
     "output_type": "execute_result"
    },
    {
     "data": {
      "image/png": "[encoded data removed]",
      "text/plain": [
       "<Figure size 432x288 with 1 Axes>"
      ]
     },
     "metadata": {
      "needs_background": "light"
     },
     "output_type": "display_data"
    }
   ],
   "source": [
    "plt.hist(np.log(ISI),100)"
   ]
  },
  {
   "cell_type": "code",
   "execution_count": null,
   "metadata": {},
   "outputs": [],
   "source": []
  }
 ],
 "metadata": {
  "kernelspec": {
   "display_name": "Python 3",
   "language": "python",
   "name": "python3"
  },
  "language_info": {
   "codemirror_mode": {
    "name": "ipython",
    "version": 3
   },
   "file_extension": ".py",
   "mimetype": "text/x-python",
   "name": "python",
   "nbconvert_exporter": "python",
   "pygments_lexer": "ipython3",
   "version": "3.8.0"
  }
 },
 "nbformat": 4,
 "nbformat_minor": 4
}
